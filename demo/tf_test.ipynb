{
 "cells": [
  {
   "cell_type": "code",
   "execution_count": 27,
   "metadata": {},
   "outputs": [
    {
     "name": "stdout",
     "output_type": "stream",
     "text": [
      "(4, 3)\n",
      "[[1]\n",
      " [3]\n",
      " [5]\n",
      " [8]]\n"
     ]
    }
   ],
   "source": [
    "import tensorflow as tf\n",
    "import numpy as np\n",
    "\n",
    "ph = tf.placeholder(shape=[None, 3], dtype=tf.int32)\n",
    "\n",
    "# look the -1 in the first position\n",
    "x = tf.slice(ph, [0, 0], [-1, 1])\n",
    "\n",
    "input = np.array([[1,2,3],\n",
    "                   [3,4,5],\n",
    "                   [5,6,7],\n",
    "                   [8,9,10]])\n",
    "print(input.shape)\n",
    "\n",
    "with tf.Session() as sess:\n",
    "        sess.run(tf.global_variables_initializer())\n",
    "        print(sess.run(x, feed_dict={ph: input}))"
   ]
  },
  {
   "cell_type": "code",
   "execution_count": 31,
   "metadata": {},
   "outputs": [
    {
     "name": "stdout",
     "output_type": "stream",
     "text": [
      "(1, 3, 3, 2)\n",
      "[[[[1 1]\n",
      "   [2 2]\n",
      "   [3 3]]\n",
      "\n",
      "  [[3 3]\n",
      "   [4 4]\n",
      "   [5 5]]\n",
      "\n",
      "  [[5 5]\n",
      "   [6 6]\n",
      "   [7 7]]]]\n"
     ]
    }
   ],
   "source": [
    "x1 = np.array([[1, 2, 3],\n",
    "               [3, 4, 5],\n",
    "               [5, 6, 7]]).reshape(1, 3, 3, 1)\n",
    "x2 = x1\n",
    "concat = tf.concat([x1, x2], 3)\n",
    "\n",
    "with tf.Session() as sess:\n",
    "        sess.run(tf.global_variables_initializer())\n",
    "        ret = sess.run(concat, feed_dict={ph: input})\n",
    "        print(ret.shape)\n",
    "        print(ret)"
   ]
  },
  {
   "cell_type": "code",
   "execution_count": 38,
   "metadata": {},
   "outputs": [
    {
     "name": "stdout",
     "output_type": "stream",
     "text": [
      "Tensor(\"Shape_17:0\", shape=(4,), dtype=int32)\n",
      "[[[[1]\n",
      "   [2]\n",
      "   [3]]\n",
      "\n",
      "  [[3]\n",
      "   [4]\n",
      "   [5]]\n",
      "\n",
      "  [[5]\n",
      "   [6]\n",
      "   [7]]]]\n",
      "(1, 3, 3, 1)\n",
      "(1, 3, 3, 1)\n",
      "[[[[1.]\n",
      "   [2.]\n",
      "   [3.]]\n",
      "\n",
      "  [[3.]\n",
      "   [4.]\n",
      "   [5.]]\n",
      "\n",
      "  [[5.]\n",
      "   [6.]\n",
      "   [7.]]]]\n"
     ]
    }
   ],
   "source": [
    "x = tf.placeholder(\"float\", shape=[None, None, None, 1])\n",
    "nx = tf.shape(x)[1]\n",
    "ny = tf.shape(x)[2]\n",
    "x_image = tf.reshape(x, tf.stack([-1, nx, ny, 1]))\n",
    "print(tf.shape(x_image))\n",
    "print(x1)\n",
    "print(x1.shape)\n",
    "with tf.Session() as sess:\n",
    "        sess.run(tf.global_variables_initializer())\n",
    "        ret = sess.run(x_image, feed_dict={x: x1})\n",
    "        print(ret.shape)\n",
    "        print(ret)"
   ]
  },
  {
   "cell_type": "code",
   "execution_count": null,
   "metadata": {},
   "outputs": [],
   "source": []
  }
 ],
 "metadata": {
  "kernelspec": {
   "display_name": "Python 2",
   "language": "python",
   "name": "python2"
  },
  "language_info": {
   "codemirror_mode": {
    "name": "ipython",
    "version": 2
   },
   "file_extension": ".py",
   "mimetype": "text/x-python",
   "name": "python",
   "nbconvert_exporter": "python",
   "pygments_lexer": "ipython2",
   "version": "2.7.16"
  }
 },
 "nbformat": 4,
 "nbformat_minor": 2
}
